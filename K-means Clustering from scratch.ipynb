{
 "cells": [
  {
   "cell_type": "markdown",
   "metadata": {},
   "source": [
    " # K-Means clustering from scratch"
   ]
  },
  {
   "cell_type": "code",
   "execution_count": 1,
   "metadata": {},
   "outputs": [],
   "source": [
    "%matplotlib inline\n",
    "import matplotlib.pyplot as plt\n",
    "import numpy as np\n",
    "import random"
   ]
  },
  {
   "cell_type": "code",
   "execution_count": 3,
   "metadata": {},
   "outputs": [
    {
     "data": {
      "text/plain": [
       "<matplotlib.collections.PathCollection at 0x22c7bb77f28>"
      ]
     },
     "execution_count": 3,
     "metadata": {},
     "output_type": "execute_result"
    },
    {
     "data": {
      "image/png": "[encoded data removed]",
      "text/plain": [
       "<Figure size 432x288 with 1 Axes>"
      ]
     },
     "metadata": {
      "needs_background": "light"
     },
     "output_type": "display_data"
    }
   ],
   "source": [
    "from sklearn.datasets.samples_generator import make_blobs     #Generating clusters\n",
    "\n",
    "X,y=make_blobs(n_samples=200,n_features=2,centers=3,cluster_std=0.6,random_state=0)\n",
    "plt.scatter(X[:,0],X[:,1],s=35)"
   ]
  },
  {
   "cell_type": "code",
   "execution_count": 4,
   "metadata": {},
   "outputs": [],
   "source": [
    "d=X.shape[0] #No. of data points\n",
    "n=X.shape[1] #No. of dimensions in data\n",
    "k=3 #number of clusters\n",
    "centroids=np.array([]).reshape(n,0)"
   ]
  },
  {
   "cell_type": "markdown",
   "metadata": {},
   "source": [
    "# assigning initial centroids"
   ]
  },
  {
   "cell_type": "code",
   "execution_count": 5,
   "metadata": {},
   "outputs": [],
   "source": [
    "for i in range(k):\n",
    "    rnum=random.randint(0,d-1)\n",
    "    centroids=np.c_[centroids,X[rnum]]"
   ]
  },
  {
   "cell_type": "markdown",
   "metadata": {},
   "source": [
    "# euclidian distances from centroids"
   ]
  },
  {
   "cell_type": "code",
   "execution_count": 6,
   "metadata": {},
   "outputs": [],
   "source": [
    "def nearby_centroids(data,centroids,k):\n",
    "    euclidist=np.array([]).reshape(len(data),0)\n",
    "    for j in range(k):\n",
    "        tmp=np.sum((data-centroids[:,j])**2,axis=1)\n",
    "        euclidist=np.c_[euclidist,tmp]\n",
    "    nearest=np.argmin(euclidist,axis=1)+1\n",
    "    return nearest"
   ]
  },
  {
   "cell_type": "markdown",
   "metadata": {},
   "source": [
    "# assigning clusters to data points"
   ]
  },
  {
   "cell_type": "code",
   "execution_count": 7,
   "metadata": {},
   "outputs": [],
   "source": [
    "def clustering(data,k,nearby):\n",
    "    tmpcluster={}\n",
    "    centroids=np.zeros([data.shape[1],k])\n",
    "    for p in range(k):\n",
    "        tmpcluster[p+1]=np.array([]).reshape(2,0)\n",
    "    for q in range(len(data)):\n",
    "        tmpcluster[nearby[q]]=np.c_[tmpcluster[nearby[q]],data[q]]\n",
    "    for r in range(k):\n",
    "        tmpcluster[r+1]=tmpcluster[r+1].T\n",
    "    for s in range(k):\n",
    "        centroids[:,s]=np.mean(tmpcluster[s+1],axis=0)\n",
    "        \n",
    "    return centroids,tmpcluster"
   ]
  },
  {
   "cell_type": "markdown",
   "metadata": {},
   "source": [
    "# converging our algorithm"
   ]
  },
  {
   "cell_type": "code",
   "execution_count": 8,
   "metadata": {},
   "outputs": [],
   "source": [
    "nearby1=nearby_centroids(X,centroids,k)\n",
    "centroids2,group1=clustering(X,k,nearby1)\n",
    "nearby2=nearby_centroids(X,centroids2,k)\n",
    "centroids3,group2=clustering(X,k,nearby2)\n",
    "\n",
    "changed=True\n",
    "def convergence(group2,group1,k):\n",
    "    changed=False\n",
    "    for u in range(k):\n",
    "        if (len(group1[u+1])!=len(group2[u+1])):\n",
    "                changed=True\n",
    "                break\n",
    "        else :\n",
    "                for v in range(len(group1[u+1])):\n",
    "                    if (all(group1[u+1][v]==group2[u+1][v])==False):\n",
    "                        changed=True\n",
    "                        break\n",
    "\n",
    "    return changed\n",
    "\n",
    "while (convergence(group2,group1,k)==True):\n",
    "    nearby1=nearby2\n",
    "    centroids2,group1=centroids3,group2\n",
    "    nearby2=nearby_centroids(X,centroids2,k)\n",
    "    centroids3,group2=clustering(X,k,nearby2)\n",
    "    \n",
    "final_centroids,final_cluster=centroids3,group2\n"
   ]
  },
  {
   "cell_type": "markdown",
   "metadata": {},
   "source": [
    "# Plotting the results"
   ]
  },
  {
   "cell_type": "code",
   "execution_count": 9,
   "metadata": {},
   "outputs": [
    {
     "data": {
      "image/png": "[encoded data removed]",
      "text/plain": [
       "<Figure size 432x288 with 1 Axes>"
      ]
     },
     "metadata": {
      "needs_background": "light"
     },
     "output_type": "display_data"
    }
   ],
   "source": [
    "colors=['yellow','blue','green']\n",
    "labels=['cluster 1','cluster 2','cluster 3']\n",
    "for r in range(k):\n",
    "    plt.scatter(final_cluster[r+1][:,0],final_cluster[r+1][:,1],c=colors[r],label=labels[r])\n",
    "plt.scatter(final_centroids[0,:],final_centroids[1,:],s=300,alpha=0.5,c='red',label='centroids')\n",
    "plt.legend()\n",
    "plt.show()"
   ]
  },
  {
   "cell_type": "code",
   "execution_count": 10,
   "metadata": {},
   "outputs": [
    {
     "data": {
      "text/plain": [
       "array([[-1.64579109,  0.96362733,  2.00041564],\n",
       "       [ 2.89383733,  4.41519955,  0.81813071]])"
      ]
     },
     "execution_count": 10,
     "metadata": {},
     "output_type": "execute_result"
    }
   ],
   "source": [
    "#Rough\n",
    "final_centroids"
   ]
  }
 ],
 "metadata": {
  "kernelspec": {
   "display_name": "Python 3",
   "language": "python",
   "name": "python3"
  },
  "language_info": {
   "codemirror_mode": {
    "name": "ipython",
    "version": 3
   },
   "file_extension": ".py",
   "mimetype": "text/x-python",
   "name": "python",
   "nbconvert_exporter": "python",
   "pygments_lexer": "ipython3",
   "version": "3.7.3"
  }
 },
 "nbformat": 4,
 "nbformat_minor": 4
}
